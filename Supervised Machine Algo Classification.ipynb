{
 "cells": [
  {
   "cell_type": "markdown",
   "id": "226de6fc",
   "metadata": {},
   "source": [
    "Overview:\n",
    "    \n",
    "- In building a news detector, two intuitive considerations can be made to optimize the model accuracy. This model focuses on maximing the vectorization of the input data set.\n",
    "\n",
    "- Using a countVectorizer for news dataset that have similar news articles. Intuitively, it means if more similar news article are found int the dataset, it is more likely these news article will be valid or false depending on the majorty label\n",
    "\n",
    "- The TFIDF works better in a dataset that has alot of unique news article as it is able to highlight the weight of these uniue words"
   ]
  },
  {
   "cell_type": "markdown",
   "id": "066404eb",
   "metadata": {},
   "source": [
    "### Brief description of the data :"
   ]
  },
  {
   "cell_type": "markdown",
   "id": "7e1862f3",
   "metadata": {},
   "source": [
    "Data Description:\n",
    "    Here the data given is all about the news and we need to find out whether the data is fake or real.\n",
    "    we have four  input feature and one output feature which is telling that data is real or fake.\n",
    "Feature info: \n",
    "\n",
    "1. id: unique id for a news article.\n",
    "2. title: the title of the news article.\n",
    "3. author: author of the news article.\n",
    "4. text: the text of the article that could be incomplete.\n",
    "5. label: a label that marks whether the news article is real or fake.\n",
    "\n",
    "            1 => fake news\n",
    "            0 => real news"
   ]
  },
  {
   "cell_type": "code",
   "execution_count": null,
   "id": "a647cee9",
   "metadata": {},
   "outputs": [],
   "source": [
    "## Importing required  Libraries"
   ]
  },
  {
   "cell_type": "code",
   "execution_count": 387,
   "id": "81583488",
   "metadata": {},
   "outputs": [
    {
     "name": "stderr",
     "output_type": "stream",
     "text": [
      "[nltk_data] Downloading package stopwords to\n",
      "[nltk_data]     C:\\Users\\Sadha\\AppData\\Roaming\\nltk_data...\n",
      "[nltk_data]   Package stopwords is already up-to-date!\n",
      "[nltk_data] Downloading package wordnet to\n",
      "[nltk_data]     C:\\Users\\Sadha\\AppData\\Roaming\\nltk_data...\n",
      "[nltk_data]   Package wordnet is already up-to-date!\n"
     ]
    }
   ],
   "source": [
    "# Importing Libraries\n",
    "import pandas as pd\n",
    "import numpy as np\n",
    "import nltk\n",
    "import re\n",
    "import matplotlib.pyplot as plt\n",
    "import seaborn as sns\n",
    "from nltk.corpus import stopwords\n",
    "nltk.download('stopwords')\n",
    "from sklearn.metrics import classification_report,accuracy_score,ConfusionMatrixDisplay,plot_confusion_matrix\n",
    "from sklearn.linear_model import LogisticRegression\n",
    "from sklearn.tree import DecisionTreeClassifier\n",
    "from xgboost import XGBClassifier\n",
    "from sklearn.linear_model import LogisticRegression\n",
    "from sklearn.naive_bayes import MultinomialNB\n",
    "nltk.download('wordnet')\n",
    "from nltk.stem import PorterStemmer\n",
    "from nltk.corpus import stopwords\n",
    "from nltk.stem import WordNetLemmatizer\n",
    "from sklearn.feature_extraction.text import TfidfVectorizer\n",
    "from sklearn.feature_extraction.text import CountVectorizer\n",
    "from sklearn.model_selection import train_test_split\n",
    "from sklearn.metrics import confusion_matrix, accuracy_score"
   ]
  },
  {
   "cell_type": "markdown",
   "id": "d39b2d66",
   "metadata": {},
   "source": [
    "## Data Preparation:"
   ]
  },
  {
   "cell_type": "markdown",
   "id": "98d6b225",
   "metadata": {},
   "source": [
    "### Get the data which we want to train and test"
   ]
  },
  {
   "cell_type": "code",
   "execution_count": 388,
   "id": "9f951c6e",
   "metadata": {},
   "outputs": [],
   "source": [
    "train_data = pd.read_csv(\"train.csv\")"
   ]
  },
  {
   "cell_type": "code",
   "execution_count": 389,
   "id": "f8c0cce6",
   "metadata": {},
   "outputs": [
    {
     "data": {
      "text/html": [
       "<div>\n",
       "<style scoped>\n",
       "    .dataframe tbody tr th:only-of-type {\n",
       "        vertical-align: middle;\n",
       "    }\n",
       "\n",
       "    .dataframe tbody tr th {\n",
       "        vertical-align: top;\n",
       "    }\n",
       "\n",
       "    .dataframe thead th {\n",
       "        text-align: right;\n",
       "    }\n",
       "</style>\n",
       "<table border=\"1\" class=\"dataframe\">\n",
       "  <thead>\n",
       "    <tr style=\"text-align: right;\">\n",
       "      <th></th>\n",
       "      <th>id</th>\n",
       "      <th>title</th>\n",
       "      <th>author</th>\n",
       "      <th>text</th>\n",
       "      <th>label</th>\n",
       "    </tr>\n",
       "  </thead>\n",
       "  <tbody>\n",
       "    <tr>\n",
       "      <th>0</th>\n",
       "      <td>0</td>\n",
       "      <td>House Dem Aide: We Didn’t Even See Comey’s Let...</td>\n",
       "      <td>Darrell Lucus</td>\n",
       "      <td>House Dem Aide: We Didn’t Even See Comey’s Let...</td>\n",
       "      <td>1</td>\n",
       "    </tr>\n",
       "    <tr>\n",
       "      <th>1</th>\n",
       "      <td>1</td>\n",
       "      <td>FLYNN: Hillary Clinton, Big Woman on Campus - ...</td>\n",
       "      <td>Daniel J. Flynn</td>\n",
       "      <td>Ever get the feeling your life circles the rou...</td>\n",
       "      <td>0</td>\n",
       "    </tr>\n",
       "    <tr>\n",
       "      <th>2</th>\n",
       "      <td>2</td>\n",
       "      <td>Why the Truth Might Get You Fired</td>\n",
       "      <td>Consortiumnews.com</td>\n",
       "      <td>Why the Truth Might Get You Fired October 29, ...</td>\n",
       "      <td>1</td>\n",
       "    </tr>\n",
       "  </tbody>\n",
       "</table>\n",
       "</div>"
      ],
      "text/plain": [
       "   id                                              title              author  \\\n",
       "0   0  House Dem Aide: We Didn’t Even See Comey’s Let...       Darrell Lucus   \n",
       "1   1  FLYNN: Hillary Clinton, Big Woman on Campus - ...     Daniel J. Flynn   \n",
       "2   2                  Why the Truth Might Get You Fired  Consortiumnews.com   \n",
       "\n",
       "                                                text  label  \n",
       "0  House Dem Aide: We Didn’t Even See Comey’s Let...      1  \n",
       "1  Ever get the feeling your life circles the rou...      0  \n",
       "2  Why the Truth Might Get You Fired October 29, ...      1  "
      ]
     },
     "execution_count": 389,
     "metadata": {},
     "output_type": "execute_result"
    }
   ],
   "source": [
    "train_data.head(3)"
   ]
  },
  {
   "cell_type": "markdown",
   "id": "bb3fd28b",
   "metadata": {},
   "source": [
    "## EDA : Exploratory Data Analysis"
   ]
  },
  {
   "cell_type": "markdown",
   "id": "16d9cd8d",
   "metadata": {},
   "source": [
    "#### Displaying rows and columns in dataset"
   ]
  },
  {
   "cell_type": "code",
   "execution_count": 390,
   "id": "aa433e16",
   "metadata": {},
   "outputs": [
    {
     "name": "stdout",
     "output_type": "stream",
     "text": [
      "There are 20800 number of rows and 5 number of columns for training.\n"
     ]
    }
   ],
   "source": [
    "# Displaying rows and columns in dataset\n",
    "print(\"There are {} number of rows and {} number of columns for training.\".format(train_data.shape[0],train_data.shape[1]))"
   ]
  },
  {
   "cell_type": "markdown",
   "id": "7bdd97b5",
   "metadata": {},
   "source": [
    "#### Checking the null values in training data."
   ]
  },
  {
   "cell_type": "code",
   "execution_count": 391,
   "id": "f252c5ca",
   "metadata": {},
   "outputs": [
    {
     "data": {
      "text/plain": [
       "id           0\n",
       "title      558\n",
       "author    1957\n",
       "text        39\n",
       "label        0\n",
       "dtype: int64"
      ]
     },
     "execution_count": 391,
     "metadata": {},
     "output_type": "execute_result"
    }
   ],
   "source": [
    "train_data.isnull().sum()"
   ]
  },
  {
   "cell_type": "markdown",
   "id": "4abd30e6",
   "metadata": {},
   "source": [
    "#### Checking the null values in testing data."
   ]
  },
  {
   "cell_type": "code",
   "execution_count": 392,
   "id": "3003eafc",
   "metadata": {},
   "outputs": [
    {
     "name": "stdout",
     "output_type": "stream",
     "text": [
      "<class 'pandas.core.frame.DataFrame'>\n",
      "RangeIndex: 20800 entries, 0 to 20799\n",
      "Data columns (total 5 columns):\n",
      " #   Column  Non-Null Count  Dtype \n",
      "---  ------  --------------  ----- \n",
      " 0   id      20800 non-null  int64 \n",
      " 1   title   20242 non-null  object\n",
      " 2   author  18843 non-null  object\n",
      " 3   text    20761 non-null  object\n",
      " 4   label   20800 non-null  int64 \n",
      "dtypes: int64(2), object(3)\n",
      "memory usage: 812.6+ KB\n"
     ]
    }
   ],
   "source": [
    "train_data.info()"
   ]
  },
  {
   "cell_type": "markdown",
   "id": "72caedab",
   "metadata": {},
   "source": [
    "#### Describing the data"
   ]
  },
  {
   "cell_type": "code",
   "execution_count": 393,
   "id": "703e0334",
   "metadata": {},
   "outputs": [
    {
     "data": {
      "text/html": [
       "<div>\n",
       "<style scoped>\n",
       "    .dataframe tbody tr th:only-of-type {\n",
       "        vertical-align: middle;\n",
       "    }\n",
       "\n",
       "    .dataframe tbody tr th {\n",
       "        vertical-align: top;\n",
       "    }\n",
       "\n",
       "    .dataframe thead th {\n",
       "        text-align: right;\n",
       "    }\n",
       "</style>\n",
       "<table border=\"1\" class=\"dataframe\">\n",
       "  <thead>\n",
       "    <tr style=\"text-align: right;\">\n",
       "      <th></th>\n",
       "      <th>title</th>\n",
       "      <th>author</th>\n",
       "      <th>text</th>\n",
       "    </tr>\n",
       "  </thead>\n",
       "  <tbody>\n",
       "    <tr>\n",
       "      <th>count</th>\n",
       "      <td>20242</td>\n",
       "      <td>18843</td>\n",
       "      <td>20761</td>\n",
       "    </tr>\n",
       "    <tr>\n",
       "      <th>unique</th>\n",
       "      <td>19803</td>\n",
       "      <td>4201</td>\n",
       "      <td>20386</td>\n",
       "    </tr>\n",
       "    <tr>\n",
       "      <th>top</th>\n",
       "      <td>Get Ready For Civil Unrest: Survey Finds That ...</td>\n",
       "      <td>Pam Key</td>\n",
       "      <td></td>\n",
       "    </tr>\n",
       "    <tr>\n",
       "      <th>freq</th>\n",
       "      <td>5</td>\n",
       "      <td>243</td>\n",
       "      <td>75</td>\n",
       "    </tr>\n",
       "  </tbody>\n",
       "</table>\n",
       "</div>"
      ],
      "text/plain": [
       "                                                    title   author   text\n",
       "count                                               20242    18843  20761\n",
       "unique                                              19803     4201  20386\n",
       "top     Get Ready For Civil Unrest: Survey Finds That ...  Pam Key       \n",
       "freq                                                    5      243     75"
      ]
     },
     "execution_count": 393,
     "metadata": {},
     "output_type": "execute_result"
    }
   ],
   "source": [
    "train_data.describe(include=\"object\")"
   ]
  },
  {
   "cell_type": "markdown",
   "id": "0e55062d",
   "metadata": {},
   "source": [
    "#### Check if duplicated record is there"
   ]
  },
  {
   "cell_type": "code",
   "execution_count": 394,
   "id": "86939270",
   "metadata": {},
   "outputs": [
    {
     "data": {
      "text/html": [
       "<div>\n",
       "<style scoped>\n",
       "    .dataframe tbody tr th:only-of-type {\n",
       "        vertical-align: middle;\n",
       "    }\n",
       "\n",
       "    .dataframe tbody tr th {\n",
       "        vertical-align: top;\n",
       "    }\n",
       "\n",
       "    .dataframe thead th {\n",
       "        text-align: right;\n",
       "    }\n",
       "</style>\n",
       "<table border=\"1\" class=\"dataframe\">\n",
       "  <thead>\n",
       "    <tr style=\"text-align: right;\">\n",
       "      <th></th>\n",
       "      <th>id</th>\n",
       "      <th>title</th>\n",
       "      <th>author</th>\n",
       "      <th>text</th>\n",
       "      <th>label</th>\n",
       "    </tr>\n",
       "  </thead>\n",
       "  <tbody>\n",
       "  </tbody>\n",
       "</table>\n",
       "</div>"
      ],
      "text/plain": [
       "Empty DataFrame\n",
       "Columns: [id, title, author, text, label]\n",
       "Index: []"
      ]
     },
     "execution_count": 394,
     "metadata": {},
     "output_type": "execute_result"
    }
   ],
   "source": [
    "train_data[train_data.duplicated()]"
   ]
  },
  {
   "cell_type": "code",
   "execution_count": 395,
   "id": "45ebc25b",
   "metadata": {},
   "outputs": [
    {
     "data": {
      "text/html": [
       "<div>\n",
       "<style scoped>\n",
       "    .dataframe tbody tr th:only-of-type {\n",
       "        vertical-align: middle;\n",
       "    }\n",
       "\n",
       "    .dataframe tbody tr th {\n",
       "        vertical-align: top;\n",
       "    }\n",
       "\n",
       "    .dataframe thead th {\n",
       "        text-align: right;\n",
       "    }\n",
       "</style>\n",
       "<table border=\"1\" class=\"dataframe\">\n",
       "  <thead>\n",
       "    <tr style=\"text-align: right;\">\n",
       "      <th></th>\n",
       "      <th>id</th>\n",
       "      <th>title</th>\n",
       "      <th>author</th>\n",
       "      <th>text</th>\n",
       "      <th>label</th>\n",
       "    </tr>\n",
       "  </thead>\n",
       "  <tbody>\n",
       "    <tr>\n",
       "      <th>120</th>\n",
       "      <td>120</td>\n",
       "      <td>NaN</td>\n",
       "      <td>Anonymous</td>\n",
       "      <td>Same people all the time , i dont know how you...</td>\n",
       "      <td>1</td>\n",
       "    </tr>\n",
       "    <tr>\n",
       "      <th>140</th>\n",
       "      <td>140</td>\n",
       "      <td>NaN</td>\n",
       "      <td>Anonymous</td>\n",
       "      <td>There is a lot more than meets the eye to this...</td>\n",
       "      <td>1</td>\n",
       "    </tr>\n",
       "    <tr>\n",
       "      <th>347</th>\n",
       "      <td>347</td>\n",
       "      <td>LesserOfTwoEvilism</td>\n",
       "      <td>Anonymous</td>\n",
       "      <td>2016 presidential campaign by Matt Sedillo \\nH...</td>\n",
       "      <td>1</td>\n",
       "    </tr>\n",
       "  </tbody>\n",
       "</table>\n",
       "</div>"
      ],
      "text/plain": [
       "      id               title     author  \\\n",
       "120  120                 NaN  Anonymous   \n",
       "140  140                 NaN  Anonymous   \n",
       "347  347  LesserOfTwoEvilism  Anonymous   \n",
       "\n",
       "                                                  text  label  \n",
       "120  Same people all the time , i dont know how you...      1  \n",
       "140  There is a lot more than meets the eye to this...      1  \n",
       "347  2016 presidential campaign by Matt Sedillo \\nH...      1  "
      ]
     },
     "execution_count": 395,
     "metadata": {},
     "output_type": "execute_result"
    }
   ],
   "source": [
    "train_data[train_data['author']=='Anonymous'].head(3)"
   ]
  },
  {
   "cell_type": "code",
   "execution_count": 396,
   "id": "36954ea3",
   "metadata": {},
   "outputs": [
    {
     "data": {
      "text/html": [
       "<div>\n",
       "<style scoped>\n",
       "    .dataframe tbody tr th:only-of-type {\n",
       "        vertical-align: middle;\n",
       "    }\n",
       "\n",
       "    .dataframe tbody tr th {\n",
       "        vertical-align: top;\n",
       "    }\n",
       "\n",
       "    .dataframe thead th {\n",
       "        text-align: right;\n",
       "    }\n",
       "</style>\n",
       "<table border=\"1\" class=\"dataframe\">\n",
       "  <thead>\n",
       "    <tr style=\"text-align: right;\">\n",
       "      <th></th>\n",
       "      <th>id</th>\n",
       "      <th>title</th>\n",
       "      <th>author</th>\n",
       "      <th>text</th>\n",
       "      <th>label</th>\n",
       "    </tr>\n",
       "  </thead>\n",
       "  <tbody>\n",
       "    <tr>\n",
       "      <th>120</th>\n",
       "      <td>120</td>\n",
       "      <td>NaN</td>\n",
       "      <td>Anonymous</td>\n",
       "      <td>Same people all the time , i dont know how you...</td>\n",
       "      <td>1</td>\n",
       "    </tr>\n",
       "    <tr>\n",
       "      <th>140</th>\n",
       "      <td>140</td>\n",
       "      <td>NaN</td>\n",
       "      <td>Anonymous</td>\n",
       "      <td>There is a lot more than meets the eye to this...</td>\n",
       "      <td>1</td>\n",
       "    </tr>\n",
       "    <tr>\n",
       "      <th>347</th>\n",
       "      <td>347</td>\n",
       "      <td>LesserOfTwoEvilism</td>\n",
       "      <td>Anonymous</td>\n",
       "      <td>2016 presidential campaign by Matt Sedillo \\nH...</td>\n",
       "      <td>1</td>\n",
       "    </tr>\n",
       "    <tr>\n",
       "      <th>376</th>\n",
       "      <td>376</td>\n",
       "      <td>Realities Faced by Black Canadians are a Natio...</td>\n",
       "      <td>Anonymous</td>\n",
       "      <td>Tweet Widget by Robyn Maynard \\nCanada, includ...</td>\n",
       "      <td>1</td>\n",
       "    </tr>\n",
       "    <tr>\n",
       "      <th>562</th>\n",
       "      <td>562</td>\n",
       "      <td>NaN</td>\n",
       "      <td>Anonymous</td>\n",
       "      <td>Field is correct about the 8a companies and Tr...</td>\n",
       "      <td>1</td>\n",
       "    </tr>\n",
       "    <tr>\n",
       "      <th>...</th>\n",
       "      <td>...</td>\n",
       "      <td>...</td>\n",
       "      <td>...</td>\n",
       "      <td>...</td>\n",
       "      <td>...</td>\n",
       "    </tr>\n",
       "    <tr>\n",
       "      <th>18720</th>\n",
       "      <td>18720</td>\n",
       "      <td>NaN</td>\n",
       "      <td>Anonymous</td>\n",
       "      <td>There is plenty of proof the machines are rigg...</td>\n",
       "      <td>1</td>\n",
       "    </tr>\n",
       "    <tr>\n",
       "      <th>18903</th>\n",
       "      <td>18903</td>\n",
       "      <td>NaN</td>\n",
       "      <td>Anonymous</td>\n",
       "      <td>There are lots of diiferent truths , when i he...</td>\n",
       "      <td>1</td>\n",
       "    </tr>\n",
       "    <tr>\n",
       "      <th>19171</th>\n",
       "      <td>19171</td>\n",
       "      <td>NaN</td>\n",
       "      <td>Anonymous</td>\n",
       "      <td>Same people all the time , i dont know how you...</td>\n",
       "      <td>1</td>\n",
       "    </tr>\n",
       "    <tr>\n",
       "      <th>20142</th>\n",
       "      <td>20142</td>\n",
       "      <td>The Deteriorating Situation in Ethiopia</td>\n",
       "      <td>Anonymous</td>\n",
       "      <td>Tweet Widget by Yohannes Woldemariam \\nThe min...</td>\n",
       "      <td>1</td>\n",
       "    </tr>\n",
       "    <tr>\n",
       "      <th>20749</th>\n",
       "      <td>20749</td>\n",
       "      <td>Realities Faced by Black Canadians are a Natio...</td>\n",
       "      <td>Anonymous</td>\n",
       "      <td>Tweet Widget by Robyn Maynard \\nCanada, includ...</td>\n",
       "      <td>1</td>\n",
       "    </tr>\n",
       "  </tbody>\n",
       "</table>\n",
       "<p>77 rows × 5 columns</p>\n",
       "</div>"
      ],
      "text/plain": [
       "          id                                              title     author  \\\n",
       "120      120                                                NaN  Anonymous   \n",
       "140      140                                                NaN  Anonymous   \n",
       "347      347                                 LesserOfTwoEvilism  Anonymous   \n",
       "376      376  Realities Faced by Black Canadians are a Natio...  Anonymous   \n",
       "562      562                                                NaN  Anonymous   \n",
       "...      ...                                                ...        ...   \n",
       "18720  18720                                                NaN  Anonymous   \n",
       "18903  18903                                                NaN  Anonymous   \n",
       "19171  19171                                                NaN  Anonymous   \n",
       "20142  20142            The Deteriorating Situation in Ethiopia  Anonymous   \n",
       "20749  20749  Realities Faced by Black Canadians are a Natio...  Anonymous   \n",
       "\n",
       "                                                    text  label  \n",
       "120    Same people all the time , i dont know how you...      1  \n",
       "140    There is a lot more than meets the eye to this...      1  \n",
       "347    2016 presidential campaign by Matt Sedillo \\nH...      1  \n",
       "376    Tweet Widget by Robyn Maynard \\nCanada, includ...      1  \n",
       "562    Field is correct about the 8a companies and Tr...      1  \n",
       "...                                                  ...    ...  \n",
       "18720  There is plenty of proof the machines are rigg...      1  \n",
       "18903  There are lots of diiferent truths , when i he...      1  \n",
       "19171  Same people all the time , i dont know how you...      1  \n",
       "20142  Tweet Widget by Yohannes Woldemariam \\nThe min...      1  \n",
       "20749  Tweet Widget by Robyn Maynard \\nCanada, includ...      1  \n",
       "\n",
       "[77 rows x 5 columns]"
      ]
     },
     "execution_count": 396,
     "metadata": {},
     "output_type": "execute_result"
    }
   ],
   "source": [
    "train_data[(train_data['author']=='Anonymous') & (train_data['label']==1)]"
   ]
  },
  {
   "cell_type": "markdown",
   "id": "43ea1639",
   "metadata": {},
   "source": [
    "#### Insights : There are 77 rows which are with autor 'Anonymous' and alll records belongs to label 1 i.e fake news. \n"
   ]
  },
  {
   "cell_type": "code",
   "execution_count": 397,
   "id": "819e57ac",
   "metadata": {},
   "outputs": [
    {
     "data": {
      "text/html": [
       "<div>\n",
       "<style scoped>\n",
       "    .dataframe tbody tr th:only-of-type {\n",
       "        vertical-align: middle;\n",
       "    }\n",
       "\n",
       "    .dataframe tbody tr th {\n",
       "        vertical-align: top;\n",
       "    }\n",
       "\n",
       "    .dataframe thead th {\n",
       "        text-align: right;\n",
       "    }\n",
       "</style>\n",
       "<table border=\"1\" class=\"dataframe\">\n",
       "  <thead>\n",
       "    <tr style=\"text-align: right;\">\n",
       "      <th></th>\n",
       "      <th>id</th>\n",
       "      <th>title</th>\n",
       "      <th>author</th>\n",
       "      <th>text</th>\n",
       "      <th>label</th>\n",
       "    </tr>\n",
       "  </thead>\n",
       "  <tbody>\n",
       "    <tr>\n",
       "      <th>53</th>\n",
       "      <td>53</td>\n",
       "      <td>NaN</td>\n",
       "      <td>Dairy✓ᵀᴿᵁᴹᴾ</td>\n",
       "      <td>Sounds like he has our president pegged. What ...</td>\n",
       "      <td>1</td>\n",
       "    </tr>\n",
       "    <tr>\n",
       "      <th>120</th>\n",
       "      <td>120</td>\n",
       "      <td>NaN</td>\n",
       "      <td>Anonymous</td>\n",
       "      <td>Same people all the time , i dont know how you...</td>\n",
       "      <td>1</td>\n",
       "    </tr>\n",
       "    <tr>\n",
       "      <th>124</th>\n",
       "      <td>124</td>\n",
       "      <td>NaN</td>\n",
       "      <td>SeekSearchDestory</td>\n",
       "      <td>You know, outside of any morality arguments, i...</td>\n",
       "      <td>1</td>\n",
       "    </tr>\n",
       "    <tr>\n",
       "      <th>140</th>\n",
       "      <td>140</td>\n",
       "      <td>NaN</td>\n",
       "      <td>Anonymous</td>\n",
       "      <td>There is a lot more than meets the eye to this...</td>\n",
       "      <td>1</td>\n",
       "    </tr>\n",
       "    <tr>\n",
       "      <th>196</th>\n",
       "      <td>196</td>\n",
       "      <td>NaN</td>\n",
       "      <td>Raffie</td>\n",
       "      <td>They got the heater turned up on high.</td>\n",
       "      <td>1</td>\n",
       "    </tr>\n",
       "    <tr>\n",
       "      <th>...</th>\n",
       "      <td>...</td>\n",
       "      <td>...</td>\n",
       "      <td>...</td>\n",
       "      <td>...</td>\n",
       "      <td>...</td>\n",
       "    </tr>\n",
       "    <tr>\n",
       "      <th>20568</th>\n",
       "      <td>20568</td>\n",
       "      <td>NaN</td>\n",
       "      <td>Cathy Milne</td>\n",
       "      <td>Amusing comment Gary! “Those   week!” So, are ...</td>\n",
       "      <td>1</td>\n",
       "    </tr>\n",
       "    <tr>\n",
       "      <th>20627</th>\n",
       "      <td>20627</td>\n",
       "      <td>NaN</td>\n",
       "      <td>Ramona</td>\n",
       "      <td>No she doesn’t have more money than God, every...</td>\n",
       "      <td>1</td>\n",
       "    </tr>\n",
       "    <tr>\n",
       "      <th>20636</th>\n",
       "      <td>20636</td>\n",
       "      <td>NaN</td>\n",
       "      <td>Dave Lowery</td>\n",
       "      <td>Trump all the way!</td>\n",
       "      <td>1</td>\n",
       "    </tr>\n",
       "    <tr>\n",
       "      <th>20771</th>\n",
       "      <td>20771</td>\n",
       "      <td>NaN</td>\n",
       "      <td>Letsbereal</td>\n",
       "      <td>DYN's Statement on Last Week's Botnet Attack h...</td>\n",
       "      <td>1</td>\n",
       "    </tr>\n",
       "    <tr>\n",
       "      <th>20772</th>\n",
       "      <td>20772</td>\n",
       "      <td>NaN</td>\n",
       "      <td>beersession</td>\n",
       "      <td>Kinda reminds me of when Carter gave away the ...</td>\n",
       "      <td>1</td>\n",
       "    </tr>\n",
       "  </tbody>\n",
       "</table>\n",
       "<p>558 rows × 5 columns</p>\n",
       "</div>"
      ],
      "text/plain": [
       "          id title             author  \\\n",
       "53        53   NaN        Dairy✓ᵀᴿᵁᴹᴾ   \n",
       "120      120   NaN          Anonymous   \n",
       "124      124   NaN  SeekSearchDestory   \n",
       "140      140   NaN          Anonymous   \n",
       "196      196   NaN             Raffie   \n",
       "...      ...   ...                ...   \n",
       "20568  20568   NaN        Cathy Milne   \n",
       "20627  20627   NaN             Ramona   \n",
       "20636  20636   NaN        Dave Lowery   \n",
       "20771  20771   NaN         Letsbereal   \n",
       "20772  20772   NaN        beersession   \n",
       "\n",
       "                                                    text  label  \n",
       "53     Sounds like he has our president pegged. What ...      1  \n",
       "120    Same people all the time , i dont know how you...      1  \n",
       "124    You know, outside of any morality arguments, i...      1  \n",
       "140    There is a lot more than meets the eye to this...      1  \n",
       "196               They got the heater turned up on high.      1  \n",
       "...                                                  ...    ...  \n",
       "20568  Amusing comment Gary! “Those   week!” So, are ...      1  \n",
       "20627  No she doesn’t have more money than God, every...      1  \n",
       "20636                                 Trump all the way!      1  \n",
       "20771  DYN's Statement on Last Week's Botnet Attack h...      1  \n",
       "20772  Kinda reminds me of when Carter gave away the ...      1  \n",
       "\n",
       "[558 rows x 5 columns]"
      ]
     },
     "execution_count": 397,
     "metadata": {},
     "output_type": "execute_result"
    }
   ],
   "source": [
    "train_data[train_data['title'].isnull()]"
   ]
  },
  {
   "cell_type": "markdown",
   "id": "6da92e69",
   "metadata": {},
   "source": [
    "### Insights:There are 558 records with no title"
   ]
  },
  {
   "cell_type": "code",
   "execution_count": 398,
   "id": "ee614886",
   "metadata": {},
   "outputs": [
    {
     "data": {
      "text/html": [
       "<div>\n",
       "<style scoped>\n",
       "    .dataframe tbody tr th:only-of-type {\n",
       "        vertical-align: middle;\n",
       "    }\n",
       "\n",
       "    .dataframe tbody tr th {\n",
       "        vertical-align: top;\n",
       "    }\n",
       "\n",
       "    .dataframe thead th {\n",
       "        text-align: right;\n",
       "    }\n",
       "</style>\n",
       "<table border=\"1\" class=\"dataframe\">\n",
       "  <thead>\n",
       "    <tr style=\"text-align: right;\">\n",
       "      <th></th>\n",
       "      <th>id</th>\n",
       "      <th>title</th>\n",
       "      <th>author</th>\n",
       "      <th>text</th>\n",
       "      <th>label</th>\n",
       "    </tr>\n",
       "  </thead>\n",
       "  <tbody>\n",
       "    <tr>\n",
       "      <th>53</th>\n",
       "      <td>53</td>\n",
       "      <td>NaN</td>\n",
       "      <td>Dairy✓ᵀᴿᵁᴹᴾ</td>\n",
       "      <td>Sounds like he has our president pegged. What ...</td>\n",
       "      <td>1</td>\n",
       "    </tr>\n",
       "    <tr>\n",
       "      <th>120</th>\n",
       "      <td>120</td>\n",
       "      <td>NaN</td>\n",
       "      <td>Anonymous</td>\n",
       "      <td>Same people all the time , i dont know how you...</td>\n",
       "      <td>1</td>\n",
       "    </tr>\n",
       "    <tr>\n",
       "      <th>124</th>\n",
       "      <td>124</td>\n",
       "      <td>NaN</td>\n",
       "      <td>SeekSearchDestory</td>\n",
       "      <td>You know, outside of any morality arguments, i...</td>\n",
       "      <td>1</td>\n",
       "    </tr>\n",
       "    <tr>\n",
       "      <th>140</th>\n",
       "      <td>140</td>\n",
       "      <td>NaN</td>\n",
       "      <td>Anonymous</td>\n",
       "      <td>There is a lot more than meets the eye to this...</td>\n",
       "      <td>1</td>\n",
       "    </tr>\n",
       "    <tr>\n",
       "      <th>196</th>\n",
       "      <td>196</td>\n",
       "      <td>NaN</td>\n",
       "      <td>Raffie</td>\n",
       "      <td>They got the heater turned up on high.</td>\n",
       "      <td>1</td>\n",
       "    </tr>\n",
       "    <tr>\n",
       "      <th>...</th>\n",
       "      <td>...</td>\n",
       "      <td>...</td>\n",
       "      <td>...</td>\n",
       "      <td>...</td>\n",
       "      <td>...</td>\n",
       "    </tr>\n",
       "    <tr>\n",
       "      <th>20568</th>\n",
       "      <td>20568</td>\n",
       "      <td>NaN</td>\n",
       "      <td>Cathy Milne</td>\n",
       "      <td>Amusing comment Gary! “Those   week!” So, are ...</td>\n",
       "      <td>1</td>\n",
       "    </tr>\n",
       "    <tr>\n",
       "      <th>20627</th>\n",
       "      <td>20627</td>\n",
       "      <td>NaN</td>\n",
       "      <td>Ramona</td>\n",
       "      <td>No she doesn’t have more money than God, every...</td>\n",
       "      <td>1</td>\n",
       "    </tr>\n",
       "    <tr>\n",
       "      <th>20636</th>\n",
       "      <td>20636</td>\n",
       "      <td>NaN</td>\n",
       "      <td>Dave Lowery</td>\n",
       "      <td>Trump all the way!</td>\n",
       "      <td>1</td>\n",
       "    </tr>\n",
       "    <tr>\n",
       "      <th>20771</th>\n",
       "      <td>20771</td>\n",
       "      <td>NaN</td>\n",
       "      <td>Letsbereal</td>\n",
       "      <td>DYN's Statement on Last Week's Botnet Attack h...</td>\n",
       "      <td>1</td>\n",
       "    </tr>\n",
       "    <tr>\n",
       "      <th>20772</th>\n",
       "      <td>20772</td>\n",
       "      <td>NaN</td>\n",
       "      <td>beersession</td>\n",
       "      <td>Kinda reminds me of when Carter gave away the ...</td>\n",
       "      <td>1</td>\n",
       "    </tr>\n",
       "  </tbody>\n",
       "</table>\n",
       "<p>558 rows × 5 columns</p>\n",
       "</div>"
      ],
      "text/plain": [
       "          id title             author  \\\n",
       "53        53   NaN        Dairy✓ᵀᴿᵁᴹᴾ   \n",
       "120      120   NaN          Anonymous   \n",
       "124      124   NaN  SeekSearchDestory   \n",
       "140      140   NaN          Anonymous   \n",
       "196      196   NaN             Raffie   \n",
       "...      ...   ...                ...   \n",
       "20568  20568   NaN        Cathy Milne   \n",
       "20627  20627   NaN             Ramona   \n",
       "20636  20636   NaN        Dave Lowery   \n",
       "20771  20771   NaN         Letsbereal   \n",
       "20772  20772   NaN        beersession   \n",
       "\n",
       "                                                    text  label  \n",
       "53     Sounds like he has our president pegged. What ...      1  \n",
       "120    Same people all the time , i dont know how you...      1  \n",
       "124    You know, outside of any morality arguments, i...      1  \n",
       "140    There is a lot more than meets the eye to this...      1  \n",
       "196               They got the heater turned up on high.      1  \n",
       "...                                                  ...    ...  \n",
       "20568  Amusing comment Gary! “Those   week!” So, are ...      1  \n",
       "20627  No she doesn’t have more money than God, every...      1  \n",
       "20636                                 Trump all the way!      1  \n",
       "20771  DYN's Statement on Last Week's Botnet Attack h...      1  \n",
       "20772  Kinda reminds me of when Carter gave away the ...      1  \n",
       "\n",
       "[558 rows x 5 columns]"
      ]
     },
     "execution_count": 398,
     "metadata": {},
     "output_type": "execute_result"
    }
   ],
   "source": [
    "train_data[(train_data['title'].isnull()) & (train_data['label']==1)]"
   ]
  },
  {
   "cell_type": "markdown",
   "id": "fee92bc5",
   "metadata": {},
   "source": [
    "### Insights:There are 558 records with no title and all belong to label 1 that is with fake news"
   ]
  },
  {
   "cell_type": "code",
   "execution_count": 399,
   "id": "fa6b374c",
   "metadata": {},
   "outputs": [
    {
     "data": {
      "text/html": [
       "<div>\n",
       "<style scoped>\n",
       "    .dataframe tbody tr th:only-of-type {\n",
       "        vertical-align: middle;\n",
       "    }\n",
       "\n",
       "    .dataframe tbody tr th {\n",
       "        vertical-align: top;\n",
       "    }\n",
       "\n",
       "    .dataframe thead th {\n",
       "        text-align: right;\n",
       "    }\n",
       "</style>\n",
       "<table border=\"1\" class=\"dataframe\">\n",
       "  <thead>\n",
       "    <tr style=\"text-align: right;\">\n",
       "      <th></th>\n",
       "      <th>id</th>\n",
       "      <th>title</th>\n",
       "      <th>author</th>\n",
       "      <th>text</th>\n",
       "      <th>label</th>\n",
       "    </tr>\n",
       "  </thead>\n",
       "  <tbody>\n",
       "    <tr>\n",
       "      <th>6</th>\n",
       "      <td>6</td>\n",
       "      <td>Life: Life Of Luxury: Elton John’s 6 Favorite ...</td>\n",
       "      <td>NaN</td>\n",
       "      <td>Ever wonder how Britain’s most iconic pop pian...</td>\n",
       "      <td>1</td>\n",
       "    </tr>\n",
       "    <tr>\n",
       "      <th>8</th>\n",
       "      <td>8</td>\n",
       "      <td>Excerpts From a Draft Script for Donald Trump’...</td>\n",
       "      <td>NaN</td>\n",
       "      <td>Donald J. Trump is scheduled to make a highly ...</td>\n",
       "      <td>0</td>\n",
       "    </tr>\n",
       "    <tr>\n",
       "      <th>20</th>\n",
       "      <td>20</td>\n",
       "      <td>News: Hope For The GOP: A Nude Paul Ryan Has J...</td>\n",
       "      <td>NaN</td>\n",
       "      <td>Email \\nSince Donald Trump entered the electio...</td>\n",
       "      <td>1</td>\n",
       "    </tr>\n",
       "    <tr>\n",
       "      <th>23</th>\n",
       "      <td>23</td>\n",
       "      <td>Massachusetts Cop’s Wife Busted for Pinning Fa...</td>\n",
       "      <td>NaN</td>\n",
       "      <td>Massachusetts Cop’s Wife Busted for Pinning Fa...</td>\n",
       "      <td>1</td>\n",
       "    </tr>\n",
       "    <tr>\n",
       "      <th>31</th>\n",
       "      <td>31</td>\n",
       "      <td>Israel is Becoming Pivotal to China’s Mid-East...</td>\n",
       "      <td>NaN</td>\n",
       "      <td>Country: Israel While China is silently playin...</td>\n",
       "      <td>1</td>\n",
       "    </tr>\n",
       "    <tr>\n",
       "      <th>...</th>\n",
       "      <td>...</td>\n",
       "      <td>...</td>\n",
       "      <td>...</td>\n",
       "      <td>...</td>\n",
       "      <td>...</td>\n",
       "    </tr>\n",
       "    <tr>\n",
       "      <th>20718</th>\n",
       "      <td>20718</td>\n",
       "      <td>This Is The Best Picture In Human History | Da...</td>\n",
       "      <td>NaN</td>\n",
       "      <td>This Is The Best Picture In Human History By: ...</td>\n",
       "      <td>1</td>\n",
       "    </tr>\n",
       "    <tr>\n",
       "      <th>20728</th>\n",
       "      <td>20728</td>\n",
       "      <td>Trump warns of World War III if Clinton is ele...</td>\n",
       "      <td>NaN</td>\n",
       "      <td>Email Donald Trump warned in an interview Tues...</td>\n",
       "      <td>1</td>\n",
       "    </tr>\n",
       "    <tr>\n",
       "      <th>20745</th>\n",
       "      <td>20745</td>\n",
       "      <td>Thomas Frank Explores Whether Hillary Clinton ...</td>\n",
       "      <td>NaN</td>\n",
       "      <td>Thomas Frank Explores Whether Hillary Clinton ...</td>\n",
       "      <td>1</td>\n",
       "    </tr>\n",
       "    <tr>\n",
       "      <th>20768</th>\n",
       "      <td>20768</td>\n",
       "      <td>Osama bin Laden’s older brother rents out luxu...</td>\n",
       "      <td>NaN</td>\n",
       "      <td>Osama bin Laden’s older brother rents out luxu...</td>\n",
       "      <td>1</td>\n",
       "    </tr>\n",
       "    <tr>\n",
       "      <th>20786</th>\n",
       "      <td>20786</td>\n",
       "      <td>Government Forces Advancing at Damascus-Aleppo...</td>\n",
       "      <td>NaN</td>\n",
       "      <td>#FROMTHEFRONT #MAPS 22.11.2016 - 1,361 views 5...</td>\n",
       "      <td>1</td>\n",
       "    </tr>\n",
       "  </tbody>\n",
       "</table>\n",
       "<p>1957 rows × 5 columns</p>\n",
       "</div>"
      ],
      "text/plain": [
       "          id                                              title author  \\\n",
       "6          6  Life: Life Of Luxury: Elton John’s 6 Favorite ...    NaN   \n",
       "8          8  Excerpts From a Draft Script for Donald Trump’...    NaN   \n",
       "20        20  News: Hope For The GOP: A Nude Paul Ryan Has J...    NaN   \n",
       "23        23  Massachusetts Cop’s Wife Busted for Pinning Fa...    NaN   \n",
       "31        31  Israel is Becoming Pivotal to China’s Mid-East...    NaN   \n",
       "...      ...                                                ...    ...   \n",
       "20718  20718  This Is The Best Picture In Human History | Da...    NaN   \n",
       "20728  20728  Trump warns of World War III if Clinton is ele...    NaN   \n",
       "20745  20745  Thomas Frank Explores Whether Hillary Clinton ...    NaN   \n",
       "20768  20768  Osama bin Laden’s older brother rents out luxu...    NaN   \n",
       "20786  20786  Government Forces Advancing at Damascus-Aleppo...    NaN   \n",
       "\n",
       "                                                    text  label  \n",
       "6      Ever wonder how Britain’s most iconic pop pian...      1  \n",
       "8      Donald J. Trump is scheduled to make a highly ...      0  \n",
       "20     Email \\nSince Donald Trump entered the electio...      1  \n",
       "23     Massachusetts Cop’s Wife Busted for Pinning Fa...      1  \n",
       "31     Country: Israel While China is silently playin...      1  \n",
       "...                                                  ...    ...  \n",
       "20718  This Is The Best Picture In Human History By: ...      1  \n",
       "20728  Email Donald Trump warned in an interview Tues...      1  \n",
       "20745  Thomas Frank Explores Whether Hillary Clinton ...      1  \n",
       "20768  Osama bin Laden’s older brother rents out luxu...      1  \n",
       "20786  #FROMTHEFRONT #MAPS 22.11.2016 - 1,361 views 5...      1  \n",
       "\n",
       "[1957 rows x 5 columns]"
      ]
     },
     "execution_count": 399,
     "metadata": {},
     "output_type": "execute_result"
    }
   ],
   "source": [
    "train_data[train_data['author'].isnull()]"
   ]
  },
  {
   "cell_type": "markdown",
   "id": "4bed6971",
   "metadata": {},
   "source": [
    "### Insights :There are 1957 records with the feature 'author' with no value"
   ]
  },
  {
   "cell_type": "code",
   "execution_count": 400,
   "id": "98806292",
   "metadata": {},
   "outputs": [
    {
     "data": {
      "text/html": [
       "<div>\n",
       "<style scoped>\n",
       "    .dataframe tbody tr th:only-of-type {\n",
       "        vertical-align: middle;\n",
       "    }\n",
       "\n",
       "    .dataframe tbody tr th {\n",
       "        vertical-align: top;\n",
       "    }\n",
       "\n",
       "    .dataframe thead th {\n",
       "        text-align: right;\n",
       "    }\n",
       "</style>\n",
       "<table border=\"1\" class=\"dataframe\">\n",
       "  <thead>\n",
       "    <tr style=\"text-align: right;\">\n",
       "      <th></th>\n",
       "      <th>id</th>\n",
       "      <th>title</th>\n",
       "      <th>author</th>\n",
       "      <th>text</th>\n",
       "      <th>label</th>\n",
       "    </tr>\n",
       "  </thead>\n",
       "  <tbody>\n",
       "    <tr>\n",
       "      <th>6</th>\n",
       "      <td>6</td>\n",
       "      <td>Life: Life Of Luxury: Elton John’s 6 Favorite ...</td>\n",
       "      <td>NaN</td>\n",
       "      <td>Ever wonder how Britain’s most iconic pop pian...</td>\n",
       "      <td>1</td>\n",
       "    </tr>\n",
       "    <tr>\n",
       "      <th>20</th>\n",
       "      <td>20</td>\n",
       "      <td>News: Hope For The GOP: A Nude Paul Ryan Has J...</td>\n",
       "      <td>NaN</td>\n",
       "      <td>Email \\nSince Donald Trump entered the electio...</td>\n",
       "      <td>1</td>\n",
       "    </tr>\n",
       "    <tr>\n",
       "      <th>23</th>\n",
       "      <td>23</td>\n",
       "      <td>Massachusetts Cop’s Wife Busted for Pinning Fa...</td>\n",
       "      <td>NaN</td>\n",
       "      <td>Massachusetts Cop’s Wife Busted for Pinning Fa...</td>\n",
       "      <td>1</td>\n",
       "    </tr>\n",
       "    <tr>\n",
       "      <th>31</th>\n",
       "      <td>31</td>\n",
       "      <td>Israel is Becoming Pivotal to China’s Mid-East...</td>\n",
       "      <td>NaN</td>\n",
       "      <td>Country: Israel While China is silently playin...</td>\n",
       "      <td>1</td>\n",
       "    </tr>\n",
       "    <tr>\n",
       "      <th>43</th>\n",
       "      <td>43</td>\n",
       "      <td>Can I have one girlfriend without you bastards...</td>\n",
       "      <td>NaN</td>\n",
       "      <td>Can I have one girlfriend without you bastards...</td>\n",
       "      <td>1</td>\n",
       "    </tr>\n",
       "    <tr>\n",
       "      <th>...</th>\n",
       "      <td>...</td>\n",
       "      <td>...</td>\n",
       "      <td>...</td>\n",
       "      <td>...</td>\n",
       "      <td>...</td>\n",
       "    </tr>\n",
       "    <tr>\n",
       "      <th>20718</th>\n",
       "      <td>20718</td>\n",
       "      <td>This Is The Best Picture In Human History | Da...</td>\n",
       "      <td>NaN</td>\n",
       "      <td>This Is The Best Picture In Human History By: ...</td>\n",
       "      <td>1</td>\n",
       "    </tr>\n",
       "    <tr>\n",
       "      <th>20728</th>\n",
       "      <td>20728</td>\n",
       "      <td>Trump warns of World War III if Clinton is ele...</td>\n",
       "      <td>NaN</td>\n",
       "      <td>Email Donald Trump warned in an interview Tues...</td>\n",
       "      <td>1</td>\n",
       "    </tr>\n",
       "    <tr>\n",
       "      <th>20745</th>\n",
       "      <td>20745</td>\n",
       "      <td>Thomas Frank Explores Whether Hillary Clinton ...</td>\n",
       "      <td>NaN</td>\n",
       "      <td>Thomas Frank Explores Whether Hillary Clinton ...</td>\n",
       "      <td>1</td>\n",
       "    </tr>\n",
       "    <tr>\n",
       "      <th>20768</th>\n",
       "      <td>20768</td>\n",
       "      <td>Osama bin Laden’s older brother rents out luxu...</td>\n",
       "      <td>NaN</td>\n",
       "      <td>Osama bin Laden’s older brother rents out luxu...</td>\n",
       "      <td>1</td>\n",
       "    </tr>\n",
       "    <tr>\n",
       "      <th>20786</th>\n",
       "      <td>20786</td>\n",
       "      <td>Government Forces Advancing at Damascus-Aleppo...</td>\n",
       "      <td>NaN</td>\n",
       "      <td>#FROMTHEFRONT #MAPS 22.11.2016 - 1,361 views 5...</td>\n",
       "      <td>1</td>\n",
       "    </tr>\n",
       "  </tbody>\n",
       "</table>\n",
       "<p>1931 rows × 5 columns</p>\n",
       "</div>"
      ],
      "text/plain": [
       "          id                                              title author  \\\n",
       "6          6  Life: Life Of Luxury: Elton John’s 6 Favorite ...    NaN   \n",
       "20        20  News: Hope For The GOP: A Nude Paul Ryan Has J...    NaN   \n",
       "23        23  Massachusetts Cop’s Wife Busted for Pinning Fa...    NaN   \n",
       "31        31  Israel is Becoming Pivotal to China’s Mid-East...    NaN   \n",
       "43        43  Can I have one girlfriend without you bastards...    NaN   \n",
       "...      ...                                                ...    ...   \n",
       "20718  20718  This Is The Best Picture In Human History | Da...    NaN   \n",
       "20728  20728  Trump warns of World War III if Clinton is ele...    NaN   \n",
       "20745  20745  Thomas Frank Explores Whether Hillary Clinton ...    NaN   \n",
       "20768  20768  Osama bin Laden’s older brother rents out luxu...    NaN   \n",
       "20786  20786  Government Forces Advancing at Damascus-Aleppo...    NaN   \n",
       "\n",
       "                                                    text  label  \n",
       "6      Ever wonder how Britain’s most iconic pop pian...      1  \n",
       "20     Email \\nSince Donald Trump entered the electio...      1  \n",
       "23     Massachusetts Cop’s Wife Busted for Pinning Fa...      1  \n",
       "31     Country: Israel While China is silently playin...      1  \n",
       "43     Can I have one girlfriend without you bastards...      1  \n",
       "...                                                  ...    ...  \n",
       "20718  This Is The Best Picture In Human History By: ...      1  \n",
       "20728  Email Donald Trump warned in an interview Tues...      1  \n",
       "20745  Thomas Frank Explores Whether Hillary Clinton ...      1  \n",
       "20768  Osama bin Laden’s older brother rents out luxu...      1  \n",
       "20786  #FROMTHEFRONT #MAPS 22.11.2016 - 1,361 views 5...      1  \n",
       "\n",
       "[1931 rows x 5 columns]"
      ]
     },
     "execution_count": 400,
     "metadata": {},
     "output_type": "execute_result"
    }
   ],
   "source": [
    "train_data[(train_data['author'].isnull()) & (train_data['label']==1)]"
   ]
  },
  {
   "cell_type": "markdown",
   "id": "54249fe5",
   "metadata": {},
   "source": [
    "### Insights : From the 1957 records with  'author' with no value  mostly 1931 belong to the label 1 that means those all are fake records."
   ]
  },
  {
   "cell_type": "code",
   "execution_count": 401,
   "id": "1650bf00",
   "metadata": {},
   "outputs": [
    {
     "data": {
      "text/plain": [
       "author\n",
       "# 1 NWO Hatr                                                                                                              17\n",
       "-NO AUTHOR-                                                                                                               54\n",
       "10 Habits That Will Make Your Life Easier &amp; More Peaceful - Wellness Solutions                                         1\n",
       "10 More Beautiful Images That Remind You We Still Live In A Beautiful World, With Beautiful People - Upside Down Media     1\n",
       "10 Movies That Could Change Your Understanding Of Life - Upside Down Media                                                 1\n",
       "                                                                                                                          ..\n",
       "تييري ميسان                                                                                                                1\n",
       "جنگ ارزی آمریکا علیه ایران / مورد مطالعاتی سال 1390 - کدآمایی                                                              1\n",
       "سعيد هلال الشريفي                                                                                                          1\n",
       "“SHOOT FIRST ASK QUESTIONS LATER” : WHAT HAPPENS TO A UFO WHEN TRACKED ON MILITARY RADAR - Black Barth                     1\n",
       "“Shoot First Ask Questions Later” : What Happens To A UFO When Tracked on Military Radar – Mystical Shire                  1\n",
       "Name: label, Length: 4201, dtype: int64"
      ]
     },
     "execution_count": 401,
     "metadata": {},
     "output_type": "execute_result"
    }
   ],
   "source": [
    "train_data.groupby(train_data['author'])['label'].sum()"
   ]
  },
  {
   "cell_type": "markdown",
   "id": "aecd7f4a",
   "metadata": {},
   "source": [
    "### Insights : many label belongs to 'NO Author' "
   ]
  },
  {
   "cell_type": "code",
   "execution_count": 402,
   "id": "cc0a183b",
   "metadata": {},
   "outputs": [
    {
     "data": {
      "text/plain": [
       "id        17\n",
       "title     17\n",
       "author    17\n",
       "text      17\n",
       "label     17\n",
       "dtype: int64"
      ]
     },
     "execution_count": 402,
     "metadata": {},
     "output_type": "execute_result"
    }
   ],
   "source": [
    "train_data[(train_data['author'] == '# 1 NWO Hatr') & (train_data['label'] == 1)].count()"
   ]
  },
  {
   "cell_type": "markdown",
   "id": "e0495781",
   "metadata": {},
   "source": [
    "### Insights : Total 17 entries with author '# 1 NWO Hatr' which has label 1 means fake news"
   ]
  },
  {
   "cell_type": "code",
   "execution_count": 403,
   "id": "8e003bac",
   "metadata": {},
   "outputs": [
    {
     "data": {
      "text/plain": [
       "id        54\n",
       "title     54\n",
       "author    54\n",
       "text      54\n",
       "label     54\n",
       "dtype: int64"
      ]
     },
     "execution_count": 403,
     "metadata": {},
     "output_type": "execute_result"
    }
   ],
   "source": [
    "train_data[(train_data['author'] == '-NO AUTHOR-')].count()"
   ]
  },
  {
   "cell_type": "code",
   "execution_count": 404,
   "id": "3e213a01",
   "metadata": {},
   "outputs": [
    {
     "data": {
      "text/plain": [
       "id        54\n",
       "title     54\n",
       "author    54\n",
       "text      54\n",
       "label     54\n",
       "dtype: int64"
      ]
     },
     "execution_count": 404,
     "metadata": {},
     "output_type": "execute_result"
    }
   ],
   "source": [
    "train_data[(train_data['author'] == '-NO AUTHOR-') & (train_data['label'] == 1)].count()"
   ]
  },
  {
   "cell_type": "markdown",
   "id": "f06f644b",
   "metadata": {},
   "source": [
    "### Insights : Total 54 entries with author '-NO AUTHOR-' which has label 1 means fake news"
   ]
  },
  {
   "cell_type": "code",
   "execution_count": 405,
   "id": "a5bc3df8",
   "metadata": {},
   "outputs": [
    {
     "data": {
      "image/png": "[encoded data removed]",
      "text/plain": [
       "<Figure size 500x500 with 1 Axes>"
      ]
     },
     "metadata": {},
     "output_type": "display_data"
    }
   ],
   "source": [
    "# Visualizing the count of 'Label' column from the dataset\n",
    "import matplotlib.pyplot as plt\n",
    "plt.figure(figsize=(5,5))\n",
    "sns.countplot(x='label', data=train_data)\n",
    "plt.xlabel('Classifier Real or Fake')\n",
    "plt.ylabel('Count')\n",
    "plt.show()"
   ]
  },
  {
   "cell_type": "markdown",
   "id": "e192b7e3",
   "metadata": {},
   "source": [
    "### Insights: Both real and fake values are same"
   ]
  },
  {
   "cell_type": "markdown",
   "id": "c29d1310",
   "metadata": {},
   "source": [
    "## Data Preprocessing "
   ]
  },
  {
   "cell_type": "markdown",
   "id": "8a73dc89",
   "metadata": {},
   "source": [
    "## Handling Missing Values"
   ]
  },
  {
   "cell_type": "code",
   "execution_count": 406,
   "id": "4d2b79b1",
   "metadata": {},
   "outputs": [],
   "source": [
    "#Input: Data to the function containing Nan values.\n",
    "#Output : Cleaned data containing no Nan values.\n",
    "#Function: Cleaning Nan values.\n",
    "def handle_missing_value(train_data):\n",
    "    train_data = train_data.fillna(\" \")\n",
    "    return train_data\n",
    "\n",
    "train = handle_missing_value(train_data)"
   ]
  },
  {
   "cell_type": "code",
   "execution_count": 373,
   "id": "d33ee762",
   "metadata": {},
   "outputs": [
    {
     "data": {
      "text/plain": [
       "id        0\n",
       "title     0\n",
       "author    0\n",
       "text      0\n",
       "label     0\n",
       "dtype: int64"
      ]
     },
     "execution_count": 373,
     "metadata": {},
     "output_type": "execute_result"
    }
   ],
   "source": [
    "train.isnull().sum()"
   ]
  },
  {
   "cell_type": "code",
   "execution_count": 374,
   "id": "a728feeb",
   "metadata": {},
   "outputs": [
    {
     "name": "stdout",
     "output_type": "stream",
     "text": [
      "<class 'pandas.core.frame.DataFrame'>\n",
      "RangeIndex: 20800 entries, 0 to 20799\n",
      "Data columns (total 5 columns):\n",
      " #   Column  Non-Null Count  Dtype \n",
      "---  ------  --------------  ----- \n",
      " 0   id      20800 non-null  int64 \n",
      " 1   title   20800 non-null  object\n",
      " 2   author  20800 non-null  object\n",
      " 3   text    20800 non-null  object\n",
      " 4   label   20800 non-null  int64 \n",
      "dtypes: int64(2), object(3)\n",
      "memory usage: 812.6+ KB\n"
     ]
    }
   ],
   "source": [
    "train.info()"
   ]
  },
  {
   "cell_type": "markdown",
   "id": "447192a7",
   "metadata": {},
   "source": [
    "### Check Data has imbalanced set or not"
   ]
  },
  {
   "cell_type": "code",
   "execution_count": 407,
   "id": "05bcd913",
   "metadata": {},
   "outputs": [
    {
     "data": {
      "text/plain": [
       "1    10413\n",
       "0    10387\n",
       "Name: label, dtype: int64"
      ]
     },
     "execution_count": 407,
     "metadata": {},
     "output_type": "execute_result"
    }
   ],
   "source": [
    "train['label'].value_counts()"
   ]
  },
  {
   "cell_type": "code",
   "execution_count": 408,
   "id": "4109bedb",
   "metadata": {},
   "outputs": [],
   "source": [
    "imbalanced_count = (train[train['label']==1].label.count())-(train[train['label']==0].label.count())"
   ]
  },
  {
   "cell_type": "code",
   "execution_count": 409,
   "id": "3774b53e",
   "metadata": {},
   "outputs": [
    {
     "name": "stdout",
     "output_type": "stream",
     "text": [
      "26\n"
     ]
    }
   ],
   "source": [
    "print(imbalanced_count)"
   ]
  },
  {
   "cell_type": "markdown",
   "id": "a4ccdeb6",
   "metadata": {},
   "source": [
    "## Creating a variable \"title_author\" by merging columns \"title\" and \"author\""
   ]
  },
  {
   "cell_type": "code",
   "execution_count": 410,
   "id": "2f536aeb",
   "metadata": {},
   "outputs": [],
   "source": [
    "train[\"title_author\"] = train[\"title\"]+\" \"+train[\"author\"]"
   ]
  },
  {
   "cell_type": "code",
   "execution_count": 411,
   "id": "912406a4",
   "metadata": {},
   "outputs": [
    {
     "data": {
      "text/html": [
       "<div>\n",
       "<style scoped>\n",
       "    .dataframe tbody tr th:only-of-type {\n",
       "        vertical-align: middle;\n",
       "    }\n",
       "\n",
       "    .dataframe tbody tr th {\n",
       "        vertical-align: top;\n",
       "    }\n",
       "\n",
       "    .dataframe thead th {\n",
       "        text-align: right;\n",
       "    }\n",
       "</style>\n",
       "<table border=\"1\" class=\"dataframe\">\n",
       "  <thead>\n",
       "    <tr style=\"text-align: right;\">\n",
       "      <th></th>\n",
       "      <th>id</th>\n",
       "      <th>title</th>\n",
       "      <th>author</th>\n",
       "      <th>text</th>\n",
       "      <th>label</th>\n",
       "      <th>title_author</th>\n",
       "    </tr>\n",
       "  </thead>\n",
       "  <tbody>\n",
       "    <tr>\n",
       "      <th>0</th>\n",
       "      <td>0</td>\n",
       "      <td>House Dem Aide: We Didn’t Even See Comey’s Let...</td>\n",
       "      <td>Darrell Lucus</td>\n",
       "      <td>House Dem Aide: We Didn’t Even See Comey’s Let...</td>\n",
       "      <td>1</td>\n",
       "      <td>House Dem Aide: We Didn’t Even See Comey’s Let...</td>\n",
       "    </tr>\n",
       "    <tr>\n",
       "      <th>1</th>\n",
       "      <td>1</td>\n",
       "      <td>FLYNN: Hillary Clinton, Big Woman on Campus - ...</td>\n",
       "      <td>Daniel J. Flynn</td>\n",
       "      <td>Ever get the feeling your life circles the rou...</td>\n",
       "      <td>0</td>\n",
       "      <td>FLYNN: Hillary Clinton, Big Woman on Campus - ...</td>\n",
       "    </tr>\n",
       "    <tr>\n",
       "      <th>2</th>\n",
       "      <td>2</td>\n",
       "      <td>Why the Truth Might Get You Fired</td>\n",
       "      <td>Consortiumnews.com</td>\n",
       "      <td>Why the Truth Might Get You Fired October 29, ...</td>\n",
       "      <td>1</td>\n",
       "      <td>Why the Truth Might Get You Fired Consortiumne...</td>\n",
       "    </tr>\n",
       "  </tbody>\n",
       "</table>\n",
       "</div>"
      ],
      "text/plain": [
       "   id                                              title              author  \\\n",
       "0   0  House Dem Aide: We Didn’t Even See Comey’s Let...       Darrell Lucus   \n",
       "1   1  FLYNN: Hillary Clinton, Big Woman on Campus - ...     Daniel J. Flynn   \n",
       "2   2                  Why the Truth Might Get You Fired  Consortiumnews.com   \n",
       "\n",
       "                                                text  label  \\\n",
       "0  House Dem Aide: We Didn’t Even See Comey’s Let...      1   \n",
       "1  Ever get the feeling your life circles the rou...      0   \n",
       "2  Why the Truth Might Get You Fired October 29, ...      1   \n",
       "\n",
       "                                        title_author  \n",
       "0  House Dem Aide: We Didn’t Even See Comey’s Let...  \n",
       "1  FLYNN: Hillary Clinton, Big Woman on Campus - ...  \n",
       "2  Why the Truth Might Get You Fired Consortiumne...  "
      ]
     },
     "execution_count": 411,
     "metadata": {},
     "output_type": "execute_result"
    }
   ],
   "source": [
    "train.head(3)"
   ]
  },
  {
   "cell_type": "markdown",
   "id": "9766bc14",
   "metadata": {},
   "source": [
    "## stemming and Data Cleaning"
   ]
  },
  {
   "cell_type": "markdown",
   "id": "aab05407",
   "metadata": {},
   "source": [
    "- Stemming: This is the process of reducing the words into roots words and that will remove suffix and prefix from the word."
   ]
  },
  {
   "cell_type": "markdown",
   "id": "9dd3cbad",
   "metadata": {},
   "source": [
    "Steps are followed:\n",
    "1. Firstly, all the sequences except english characters are removed from the string. \n",
    "2. Next, to avoid false predictions or ambiguity with upper and lowercase, all the characters in strings are converted to lowercase. \n",
    "3. Next, all the sentences are tokenized into words. \n",
    "4. To facilitate fast processing, stemming is applied to the tokenized words.\n",
    "5. Next, words are joined together and stored in the corpus.\n",
    "\n",
    "Note: In this tutorial, we have used \"merged\" column for classification task. Also, the loop inside the function runs over all the examples in the merged column."
   ]
  },
  {
   "cell_type": "code",
   "execution_count": 412,
   "id": "cb77e304",
   "metadata": {},
   "outputs": [],
   "source": [
    "port=PorterStemmer()\n",
    "def stem_data(content):\n",
    "    stemmed_content=re.sub('[^a-zA-Z]',' ',content)\n",
    "    stemmed_content=stemmed_content.lower()\n",
    "    stemmed_content=stemmed_content.split()\n",
    "    stemmed_content=[port.stem(word) for word in stemmed_content if not word in stopwords.words('english')]\n",
    "    stemmed_content=' '.join(stemmed_content)\n",
    "    return stemmed_content"
   ]
  },
  {
   "cell_type": "code",
   "execution_count": 421,
   "id": "b91363cd",
   "metadata": {},
   "outputs": [],
   "source": [
    "train['title_author']=train['title_author'].apply(stem_data)"
   ]
  },
  {
   "cell_type": "code",
   "execution_count": 422,
   "id": "4a9ece2c",
   "metadata": {},
   "outputs": [],
   "source": [
    "# seperating the data and label\n",
    "X = train['title_author'].values\n",
    "y = train['label'].values"
   ]
  },
  {
   "cell_type": "markdown",
   "id": "83e5732b",
   "metadata": {},
   "source": [
    "## Train Test spit with Countvectorizer"
   ]
  },
  {
   "cell_type": "code",
   "execution_count": null,
   "id": "82ac4319",
   "metadata": {},
   "outputs": [],
   "source": [
    "# train test split\n",
    "cv = CountVectorizer(ngram_range =(2,2), max_features = 20000)\n",
    "X_cv= cv.fit_transform(X).toarray() # matrix creation- words as columns, sentences as rows\n",
    "X_train1, X_test1, y_train1, y_test1 = train_test_split(X_cv,y, test_size =0.32, random_state =10,stratify=y)"
   ]
  },
  {
   "cell_type": "markdown",
   "id": "a7845300",
   "metadata": {},
   "source": [
    "## Train Test split with TF-IDF vectorizer"
   ]
  },
  {
   "cell_type": "code",
   "execution_count": null,
   "id": "ecaaeb83",
   "metadata": {},
   "outputs": [],
   "source": [
    "# train test split\n",
    "tfidf = TfidfVectorizer(ngram_range =(2,2), max_features = 20000)\n",
    "X_tf = tfidf.fit_transform(X).toarray() # matrix creation- words as columns, sentences as rows\n",
    "X_train, X_test, y_train, y_test = train_test_split(X_tf, y, test_size =0.25, random_state =0,stratify=y)"
   ]
  },
  {
   "cell_type": "markdown",
   "id": "869ba1b4",
   "metadata": {},
   "source": [
    "### Function to get all value with resepct to called machine algo by using Countvectorizer train test split"
   ]
  },
  {
   "cell_type": "code",
   "execution_count": 316,
   "id": "f5072534",
   "metadata": {},
   "outputs": [],
   "source": [
    "def train(model, model_name):\n",
    "    model.fit(X_train1,y_train1)\n",
    "    print(f\"Training accuracy of {model_name} is {model.score(X_train1,y_train1)}\")\n",
    "    print(f\"testing accuracy of {model_name} is {model.score(X_test1,y_test1)}\")\n",
    "    y_pred1 = model.predict(X_test1)\n",
    "    print(confusion_matrix(y_test1, y_pred1))\n",
    "    print(classification_report(y_test1,y_pred1))\n",
    "    accuracy= accuracy_score(y_test1, y_pred1)\n",
    "    return accuracy"
   ]
  },
  {
   "cell_type": "markdown",
   "id": "4e5789f2",
   "metadata": {},
   "source": [
    "### Function to get all value with resepct to called machine algo by using TF-IDF vecorrizer train test split"
   ]
  },
  {
   "cell_type": "code",
   "execution_count": 317,
   "id": "6fd3a3c1",
   "metadata": {},
   "outputs": [],
   "source": [
    "def train_tfidf(model, model_name):\n",
    "    model.fit(X_train,y_train)\n",
    "    print(f\"Training accuracy of {model_name} is {model.score(X_train,y_train)}\")\n",
    "    print(f\"testing accuracy of {model_name} is {model.score(X_test,y_test)}\")\n",
    "    y_pred = model.predict(X_test)\n",
    "    print(confusion_matrix(y_test, y_pred))\n",
    "    print(classification_report(y_test,y_pred))\n",
    "    accuracy= accuracy_score(y_test, y_pred)\n",
    "    return accuracy"
   ]
  },
  {
   "cell_type": "markdown",
   "id": "f837476b",
   "metadata": {},
   "source": [
    "## 1. Countvectorizer : LogisticRegression"
   ]
  },
  {
   "cell_type": "code",
   "execution_count": 318,
   "id": "4b2314ee",
   "metadata": {},
   "outputs": [
    {
     "name": "stdout",
     "output_type": "stream",
     "text": [
      "Training accuracy of LogisticRegression is 0.9959615384615385\n",
      "testing accuracy of LogisticRegression is 0.9901923076923077\n",
      "[[2552   45]\n",
      " [   6 2597]]\n",
      "              precision    recall  f1-score   support\n",
      "\n",
      "           0       1.00      0.98      0.99      2597\n",
      "           1       0.98      1.00      0.99      2603\n",
      "\n",
      "    accuracy                           0.99      5200\n",
      "   macro avg       0.99      0.99      0.99      5200\n",
      "weighted avg       0.99      0.99      0.99      5200\n",
      "\n"
     ]
    }
   ],
   "source": [
    "model1_accuracy = train(LogisticRegression(),'LogisticRegression')"
   ]
  },
  {
   "cell_type": "code",
   "execution_count": 302,
   "id": "d8f03a9c",
   "metadata": {},
   "outputs": [
    {
     "name": "stdout",
     "output_type": "stream",
     "text": [
      "Accuracy of Logistic Regression on Count Vectorizer data 99.01923076923077\n"
     ]
    }
   ],
   "source": [
    "print(\"Accuracy of Logistic Regression on Count Vectorizer data\",model1_accuracy*100)"
   ]
  },
  {
   "cell_type": "markdown",
   "id": "588a6c8d",
   "metadata": {},
   "source": [
    "## 2. Countvectorizer : MultinomialNB"
   ]
  },
  {
   "cell_type": "code",
   "execution_count": 337,
   "id": "b6116b53",
   "metadata": {},
   "outputs": [
    {
     "name": "stdout",
     "output_type": "stream",
     "text": [
      "Training accuracy of MultinomialNB is 0.9916025641025641\n",
      "testing accuracy of MultinomialNB is 0.9738461538461538\n",
      "[[2585   12]\n",
      " [ 124 2479]]\n",
      "              precision    recall  f1-score   support\n",
      "\n",
      "           0       0.95      1.00      0.97      2597\n",
      "           1       1.00      0.95      0.97      2603\n",
      "\n",
      "    accuracy                           0.97      5200\n",
      "   macro avg       0.97      0.97      0.97      5200\n",
      "weighted avg       0.97      0.97      0.97      5200\n",
      "\n"
     ]
    }
   ],
   "source": [
    "model2_accuracy = train(MultinomialNB(),'MultinomialNB')"
   ]
  },
  {
   "cell_type": "code",
   "execution_count": 426,
   "id": "49be4d8e",
   "metadata": {},
   "outputs": [
    {
     "name": "stdout",
     "output_type": "stream",
     "text": [
      "Accuracy of Multinomial NB on Count Vectorizer data 97.38461538461539\n"
     ]
    }
   ],
   "source": [
    "print(\"Accuracy of Multinomial NB on Count Vectorizer data\",model2_accuracy*100)"
   ]
  },
  {
   "cell_type": "markdown",
   "id": "530ed41f",
   "metadata": {},
   "source": [
    "## 3. Countvectorizer : DecisionTreeClassifier"
   ]
  },
  {
   "cell_type": "code",
   "execution_count": 338,
   "id": "006b25b5",
   "metadata": {},
   "outputs": [
    {
     "name": "stdout",
     "output_type": "stream",
     "text": [
      "Training accuracy of DecisionTreeClassifier is 0.9999358974358974\n",
      "testing accuracy of DecisionTreeClassifier is 0.9930769230769231\n",
      "[[2575   22]\n",
      " [  14 2589]]\n",
      "              precision    recall  f1-score   support\n",
      "\n",
      "           0       0.99      0.99      0.99      2597\n",
      "           1       0.99      0.99      0.99      2603\n",
      "\n",
      "    accuracy                           0.99      5200\n",
      "   macro avg       0.99      0.99      0.99      5200\n",
      "weighted avg       0.99      0.99      0.99      5200\n",
      "\n"
     ]
    }
   ],
   "source": [
    "model3_accuracy = train(DecisionTreeClassifier(),'DecisionTreeClassifier')"
   ]
  },
  {
   "cell_type": "code",
   "execution_count": 425,
   "id": "60a32d80",
   "metadata": {},
   "outputs": [
    {
     "name": "stdout",
     "output_type": "stream",
     "text": [
      "Accuracy of DecisionTree on Count Vectorizer data 99.3076923076923\n"
     ]
    }
   ],
   "source": [
    "print(\"Accuracy of DecisionTree on Count Vectorizer data\",model3_accuracy*100)"
   ]
  },
  {
   "cell_type": "markdown",
   "id": "18d29bb1",
   "metadata": {},
   "source": [
    "## 4.Countvectorize : XGBoost Classifier"
   ]
  },
  {
   "cell_type": "code",
   "execution_count": 307,
   "id": "582e5ca2",
   "metadata": {},
   "outputs": [
    {
     "name": "stdout",
     "output_type": "stream",
     "text": [
      "Training accuracy of XGBoostClassifier is 0.9892948717948717\n",
      "testing accuracy of XGBoostClassifier is 0.9875\n",
      "[[2537   60]\n",
      " [   5 2598]]\n",
      "              precision    recall  f1-score   support\n",
      "\n",
      "           0       1.00      0.98      0.99      2597\n",
      "           1       0.98      1.00      0.99      2603\n",
      "\n",
      "    accuracy                           0.99      5200\n",
      "   macro avg       0.99      0.99      0.99      5200\n",
      "weighted avg       0.99      0.99      0.99      5200\n",
      "\n",
      "Accuracy of Logistic Regression on Count Vectorizer data 98.75\n"
     ]
    }
   ],
   "source": [
    "model4_accuracy = train(XGBClassifier(),'XGBoostClassifier')"
   ]
  },
  {
   "cell_type": "code",
   "execution_count": 427,
   "id": "33843db0",
   "metadata": {},
   "outputs": [
    {
     "name": "stdout",
     "output_type": "stream",
     "text": [
      "Accuracy of XGboost on Count Vectorizer data 98.75\n"
     ]
    }
   ],
   "source": [
    "print(\"Accuracy of XGboost on Count Vectorizer data\",model4_accuracy*100)"
   ]
  },
  {
   "cell_type": "code",
   "execution_count": 333,
   "id": "5f91e633",
   "metadata": {},
   "outputs": [
    {
     "data": {
      "text/html": [
       "<div>\n",
       "<style scoped>\n",
       "    .dataframe tbody tr th:only-of-type {\n",
       "        vertical-align: middle;\n",
       "    }\n",
       "\n",
       "    .dataframe tbody tr th {\n",
       "        vertical-align: top;\n",
       "    }\n",
       "\n",
       "    .dataframe thead th {\n",
       "        text-align: right;\n",
       "    }\n",
       "</style>\n",
       "<table border=\"1\" class=\"dataframe\">\n",
       "  <thead>\n",
       "    <tr style=\"text-align: right;\">\n",
       "      <th></th>\n",
       "      <th>Model</th>\n",
       "      <th>Accuracy</th>\n",
       "    </tr>\n",
       "  </thead>\n",
       "  <tbody>\n",
       "    <tr>\n",
       "      <th>0</th>\n",
       "      <td>Logistic Regression</td>\n",
       "      <td>0.980385</td>\n",
       "    </tr>\n",
       "    <tr>\n",
       "      <th>1</th>\n",
       "      <td>Naive Bayes</td>\n",
       "      <td>0.973269</td>\n",
       "    </tr>\n",
       "    <tr>\n",
       "      <th>2</th>\n",
       "      <td>Decision Tree</td>\n",
       "      <td>0.993462</td>\n",
       "    </tr>\n",
       "    <tr>\n",
       "      <th>3</th>\n",
       "      <td>XGBOOST</td>\n",
       "      <td>0.987500</td>\n",
       "    </tr>\n",
       "  </tbody>\n",
       "</table>\n",
       "</div>"
      ],
      "text/plain": [
       "                 Model  Accuracy\n",
       "0  Logistic Regression  0.980385\n",
       "1          Naive Bayes  0.973269\n",
       "2        Decision Tree  0.993462\n",
       "3              XGBOOST  0.987500"
      ]
     },
     "execution_count": 333,
     "metadata": {},
     "output_type": "execute_result"
    }
   ],
   "source": [
    "results = pd.DataFrame([[\"Logistic Regression\",model1_accuracy],[\"Naive Bayes\",model2_accuracy],[\"Decision Tree\",model3_accuracy],\n",
    "                      [\"XGBOOST\",model4_accuracy]],columns=[\"Model\",\"Accuracy\"])\n",
    "\n",
    "results"
   ]
  },
  {
   "cell_type": "markdown",
   "id": "fa3426e3",
   "metadata": {},
   "source": [
    "## 1. TF-IDF vectorizer :LogisticRegression"
   ]
  },
  {
   "cell_type": "code",
   "execution_count": 336,
   "id": "4cf92189",
   "metadata": {},
   "outputs": [
    {
     "name": "stdout",
     "output_type": "stream",
     "text": [
      "Training accuracy of LogisticRegression is 0.9905128205128205\n",
      "testing accuracy of LogisticRegression is 0.9803846153846154\n",
      "[[2501   96]\n",
      " [   6 2597]]\n",
      "              precision    recall  f1-score   support\n",
      "\n",
      "           0       1.00      0.96      0.98      2597\n",
      "           1       0.96      1.00      0.98      2603\n",
      "\n",
      "    accuracy                           0.98      5200\n",
      "   macro avg       0.98      0.98      0.98      5200\n",
      "weighted avg       0.98      0.98      0.98      5200\n",
      "\n"
     ]
    }
   ],
   "source": [
    "model1_accuracy_tfidf = train_tfidf(LogisticRegression(),'LogisticRegression')"
   ]
  },
  {
   "cell_type": "code",
   "execution_count": 428,
   "id": "cadd90df",
   "metadata": {},
   "outputs": [
    {
     "name": "stdout",
     "output_type": "stream",
     "text": [
      "Accuracy of Logistic Regression on TF-IDF data 98.03846153846155\n"
     ]
    }
   ],
   "source": [
    "print(\"Accuracy of Logistic Regression on TF-IDF data\",model1_accuracy_tfidf*100)"
   ]
  },
  {
   "cell_type": "markdown",
   "id": "6f15321b",
   "metadata": {},
   "source": [
    "## 2. TF-IDF vectorizer :MultinomialNB"
   ]
  },
  {
   "cell_type": "code",
   "execution_count": 341,
   "id": "e2a0849a",
   "metadata": {},
   "outputs": [
    {
     "name": "stdout",
     "output_type": "stream",
     "text": [
      "Training accuracy of MultinomialNB is 0.9930769230769231\n",
      "testing accuracy of MultinomialNB is 0.9732692307692308\n",
      "[[2586   11]\n",
      " [ 128 2475]]\n",
      "              precision    recall  f1-score   support\n",
      "\n",
      "           0       0.95      1.00      0.97      2597\n",
      "           1       1.00      0.95      0.97      2603\n",
      "\n",
      "    accuracy                           0.97      5200\n",
      "   macro avg       0.97      0.97      0.97      5200\n",
      "weighted avg       0.97      0.97      0.97      5200\n",
      "\n"
     ]
    }
   ],
   "source": [
    "model2_accuracy_tfidf = train_tfidf(MultinomialNB(),'MultinomialNB')"
   ]
  },
  {
   "cell_type": "code",
   "execution_count": 429,
   "id": "e04dd46d",
   "metadata": {},
   "outputs": [
    {
     "name": "stdout",
     "output_type": "stream",
     "text": [
      "Accuracy of Naive Bayes MultiNB on TF-IDF data 97.32692307692308\n"
     ]
    }
   ],
   "source": [
    "print(\"Accuracy of Naive Bayes MultiNB on TF-IDF data\",model2_accuracy_tfidf*100)"
   ]
  },
  {
   "cell_type": "markdown",
   "id": "3de29177",
   "metadata": {},
   "source": [
    "## 3. TF-IDF vectorizer : DecisionTreeClassifier"
   ]
  },
  {
   "cell_type": "code",
   "execution_count": 339,
   "id": "6caaf6a9",
   "metadata": {},
   "outputs": [
    {
     "name": "stdout",
     "output_type": "stream",
     "text": [
      "Training accuracy of DecisionTreeClassifier is 0.9999358974358974\n",
      "testing accuracy of DecisionTreeClassifier is 0.9940384615384615\n",
      "[[2576   21]\n",
      " [  10 2593]]\n",
      "              precision    recall  f1-score   support\n",
      "\n",
      "           0       1.00      0.99      0.99      2597\n",
      "           1       0.99      1.00      0.99      2603\n",
      "\n",
      "    accuracy                           0.99      5200\n",
      "   macro avg       0.99      0.99      0.99      5200\n",
      "weighted avg       0.99      0.99      0.99      5200\n",
      "\n"
     ]
    }
   ],
   "source": [
    "model3_accuracy_tfidf = train_tfidf(DecisionTreeClassifier(),'DecisionTreeClassifier')"
   ]
  },
  {
   "cell_type": "code",
   "execution_count": 430,
   "id": "91b289ba",
   "metadata": {},
   "outputs": [
    {
     "name": "stdout",
     "output_type": "stream",
     "text": [
      "Accuracy of DecisionTree classifier on TF-IDF data 99.40384615384616\n"
     ]
    }
   ],
   "source": [
    "print(\"Accuracy of DecisionTree classifier on TF-IDF data\",model3_accuracy_tfidf*100)"
   ]
  },
  {
   "cell_type": "markdown",
   "id": "ee11dea0",
   "metadata": {},
   "source": [
    "## 4.TF-IDF vectorizer : XGBoost Classifier"
   ]
  },
  {
   "cell_type": "code",
   "execution_count": 340,
   "id": "d94d1c9a",
   "metadata": {},
   "outputs": [
    {
     "name": "stdout",
     "output_type": "stream",
     "text": [
      "Training accuracy of XGBoostClassifier is 0.989423076923077\n",
      "testing accuracy of XGBoostClassifier is 0.9875\n",
      "[[2537   60]\n",
      " [   5 2598]]\n",
      "              precision    recall  f1-score   support\n",
      "\n",
      "           0       1.00      0.98      0.99      2597\n",
      "           1       0.98      1.00      0.99      2603\n",
      "\n",
      "    accuracy                           0.99      5200\n",
      "   macro avg       0.99      0.99      0.99      5200\n",
      "weighted avg       0.99      0.99      0.99      5200\n",
      "\n"
     ]
    }
   ],
   "source": [
    "model4_accuracy_tfidf = train_tfidf(XGBClassifier(),'XGBoostClassifier')"
   ]
  },
  {
   "cell_type": "code",
   "execution_count": 431,
   "id": "c26cf7f5",
   "metadata": {},
   "outputs": [
    {
     "name": "stdout",
     "output_type": "stream",
     "text": [
      "Accuracy of XGB classifier on TF-IDF data 98.75\n"
     ]
    }
   ],
   "source": [
    "print(\"Accuracy of XGB classifier on TF-IDF data\",model4_accuracy_tfidf*100)"
   ]
  },
  {
   "cell_type": "code",
   "execution_count": 343,
   "id": "97327030",
   "metadata": {},
   "outputs": [
    {
     "data": {
      "text/html": [
       "<div>\n",
       "<style scoped>\n",
       "    .dataframe tbody tr th:only-of-type {\n",
       "        vertical-align: middle;\n",
       "    }\n",
       "\n",
       "    .dataframe tbody tr th {\n",
       "        vertical-align: top;\n",
       "    }\n",
       "\n",
       "    .dataframe thead th {\n",
       "        text-align: right;\n",
       "    }\n",
       "</style>\n",
       "<table border=\"1\" class=\"dataframe\">\n",
       "  <thead>\n",
       "    <tr style=\"text-align: right;\">\n",
       "      <th></th>\n",
       "      <th>Model</th>\n",
       "      <th>Accuracy</th>\n",
       "    </tr>\n",
       "  </thead>\n",
       "  <tbody>\n",
       "    <tr>\n",
       "      <th>0</th>\n",
       "      <td>Logistic Regression_tfidf</td>\n",
       "      <td>0.980385</td>\n",
       "    </tr>\n",
       "    <tr>\n",
       "      <th>1</th>\n",
       "      <td>Naive Bayes_tfidf</td>\n",
       "      <td>0.973846</td>\n",
       "    </tr>\n",
       "    <tr>\n",
       "      <th>2</th>\n",
       "      <td>Decision Tree_tfidf</td>\n",
       "      <td>0.993077</td>\n",
       "    </tr>\n",
       "    <tr>\n",
       "      <th>3</th>\n",
       "      <td>XGBOOST_tfidf</td>\n",
       "      <td>0.987500</td>\n",
       "    </tr>\n",
       "  </tbody>\n",
       "</table>\n",
       "</div>"
      ],
      "text/plain": [
       "                       Model  Accuracy\n",
       "0  Logistic Regression_tfidf  0.980385\n",
       "1          Naive Bayes_tfidf  0.973846\n",
       "2        Decision Tree_tfidf  0.993077\n",
       "3              XGBOOST_tfidf  0.987500"
      ]
     },
     "execution_count": 343,
     "metadata": {},
     "output_type": "execute_result"
    }
   ],
   "source": [
    "results_tfidf = pd.DataFrame([[\"Logistic Regression_tfidf\",model1_accuracy],[\"Naive Bayes_tfidf\",model2_accuracy],[\"Decision Tree_tfidf\",model3_accuracy],\n",
    "                      [\"XGBOOST_tfidf\",model4_accuracy]],columns=[\"Model\",\"Accuracy\"])\n",
    "results_tfidf"
   ]
  }
 ],
 "metadata": {
  "kernelspec": {
   "display_name": "Python 3 (ipykernel)",
   "language": "python",
   "name": "python3"
  },
  "language_info": {
   "codemirror_mode": {
    "name": "ipython",
    "version": 3
   },
   "file_extension": ".py",
   "mimetype": "text/x-python",
   "name": "python",
   "nbconvert_exporter": "python",
   "pygments_lexer": "ipython3",
   "version": "3.9.13"
  }
 },
 "nbformat": 4,
 "nbformat_minor": 5
}
